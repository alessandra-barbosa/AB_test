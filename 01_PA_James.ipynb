{
 "cells": [
  {
   "cell_type": "markdown",
   "id": "9e19c5af",
   "metadata": {},
   "source": [
    "## Business Problem"
   ]
  },
  {
   "cell_type": "markdown",
   "id": "c18cd230",
   "metadata": {},
   "source": [
    "### - Electronic House\n",
    "Electronic House is online commerce (e-commerce) of computer products for homes and offices. Customers can buy mice, monitors, keyboards, computers, laptops, HDMI cables, headphones, and webcam cameras, among others, through an online site and receive the products in the comfort of their homes.\n",
    "The UX designers team has been working on a new sales page, with the objective of increasing the conversion rate of a store product, a bluetooth keyboard. The product manager said that the conversion rate of the current page is 13% on average over the last year.\n",
    "The product manager's goal is to increase the conversion rate by 2%, that is, the new sales page, developed by the UX team, would be a success if your conversion rate was 15%.\n",
    "The bluetooth keyboard has a sale price of R$ 4,500.00 in cash or in installments at 12% interest-free on your credit card.\n",
    "Before exchanging the old sales page for the new one, the product manager would like to test the effectiveness of the new page on a smaller group of customers in order to run less risk of falling conversion if the new page shows a worse conversion than the current page."
   ]
  },
  {
   "cell_type": "markdown",
   "id": "77329394",
   "metadata": {},
   "source": [
    "### Challenge\n",
    "Validate the effectiveness of the new page more securely,\n",
    "with greater security and rigidity in the analysis.\n",
    "The final results of the work are as follows:\n",
    "1. Converting a new page is actually better than converting a page\n",
    "current?\n",
    "2. What is the potential number of sales that the new page can bring?\n",
    "3. What is the total revenue from the sale of the bluetooth keyboard through the new page?"
   ]
  },
  {
   "cell_type": "markdown",
   "id": "13ce6ec9",
   "metadata": {},
   "source": [
    "### Dataset\n",
    "https://www.kaggle.com/datasets/zhangluyuan/ab-testing?select=ab_data.csv\n"
   ]
  },
  {
   "cell_type": "markdown",
   "id": "0603ea1c",
   "metadata": {
    "ExecuteTime": {
     "end_time": "2022-07-02T17:38:39.095863Z",
     "start_time": "2022-07-02T17:38:39.087859Z"
    }
   },
   "source": [
    "## Import"
   ]
  },
  {
   "cell_type": "code",
   "execution_count": 9,
   "id": "6d67abbc",
   "metadata": {
    "ExecuteTime": {
     "end_time": "2022-07-06T10:20:20.753537Z",
     "start_time": "2022-07-06T10:20:20.734584Z"
    }
   },
   "outputs": [],
   "source": [
    "import pandas as pd\n",
    "import numpy as np\n",
    "import math \n",
    "from statsmodels.stats import api as sms\n",
    "from scipy.stats import chi2_contingency\n",
    "import lux\n",
    "from lux.vis.VisList import VisList"
   ]
  },
  {
   "cell_type": "markdown",
   "id": "0622c4f5",
   "metadata": {
    "ExecuteTime": {
     "end_time": "2022-07-02T17:38:46.339531Z",
     "start_time": "2022-07-02T17:38:46.331569Z"
    }
   },
   "source": [
    "## Loading"
   ]
  },
  {
   "cell_type": "code",
   "execution_count": 2,
   "id": "ac2ac4af",
   "metadata": {
    "ExecuteTime": {
     "end_time": "2022-07-06T10:10:05.841462Z",
     "start_time": "2022-07-06T10:10:05.629556Z"
    },
    "scrolled": true
   },
   "outputs": [],
   "source": [
    "df_raw=pd.read_csv('C:/Users/Utente77/repos/AB_Test/dataset/ab_data.csv')"
   ]
  },
  {
   "cell_type": "code",
   "execution_count": 48,
   "id": "991307bf",
   "metadata": {
    "ExecuteTime": {
     "end_time": "2022-07-06T09:51:24.705148Z",
     "start_time": "2022-07-06T09:51:21.378479Z"
    },
    "cell_style": "split",
    "hide_input": true,
    "scrolled": true
   },
   "outputs": [
    {
     "data": {
      "text/html": [
       "<div>\n",
       "<style scoped>\n",
       "    .dataframe tbody tr th:only-of-type {\n",
       "        vertical-align: middle;\n",
       "    }\n",
       "\n",
       "    .dataframe tbody tr th {\n",
       "        vertical-align: top;\n",
       "    }\n",
       "\n",
       "    .dataframe thead th {\n",
       "        text-align: right;\n",
       "    }\n",
       "</style>\n",
       "<table border=\"1\" class=\"dataframe\">\n",
       "  <thead>\n",
       "    <tr style=\"text-align: right;\">\n",
       "      <th></th>\n",
       "      <th>user_id</th>\n",
       "      <th>timestamp</th>\n",
       "      <th>group</th>\n",
       "      <th>landing_page</th>\n",
       "      <th>converted</th>\n",
       "    </tr>\n",
       "  </thead>\n",
       "  <tbody>\n",
       "    <tr>\n",
       "      <th>0</th>\n",
       "      <td>851104</td>\n",
       "      <td>2017-01-21 22:11:48.556739</td>\n",
       "      <td>control</td>\n",
       "      <td>old_page</td>\n",
       "      <td>0</td>\n",
       "    </tr>\n",
       "    <tr>\n",
       "      <th>1</th>\n",
       "      <td>804228</td>\n",
       "      <td>2017-01-12 08:01:45.159739</td>\n",
       "      <td>control</td>\n",
       "      <td>old_page</td>\n",
       "      <td>0</td>\n",
       "    </tr>\n",
       "    <tr>\n",
       "      <th>2</th>\n",
       "      <td>661590</td>\n",
       "      <td>2017-01-11 16:55:06.154213</td>\n",
       "      <td>treatment</td>\n",
       "      <td>new_page</td>\n",
       "      <td>0</td>\n",
       "    </tr>\n",
       "    <tr>\n",
       "      <th>3</th>\n",
       "      <td>853541</td>\n",
       "      <td>2017-01-08 18:28:03.143765</td>\n",
       "      <td>treatment</td>\n",
       "      <td>new_page</td>\n",
       "      <td>0</td>\n",
       "    </tr>\n",
       "    <tr>\n",
       "      <th>4</th>\n",
       "      <td>864975</td>\n",
       "      <td>2017-01-21 01:52:26.210827</td>\n",
       "      <td>control</td>\n",
       "      <td>old_page</td>\n",
       "      <td>1</td>\n",
       "    </tr>\n",
       "  </tbody>\n",
       "</table>\n",
       "</div>"
      ],
      "text/plain": [
       "   user_id                   timestamp      group landing_page  converted\n",
       "0   851104  2017-01-21 22:11:48.556739    control     old_page          0\n",
       "1   804228  2017-01-12 08:01:45.159739    control     old_page          0\n",
       "2   661590  2017-01-11 16:55:06.154213  treatment     new_page          0\n",
       "3   853541  2017-01-08 18:28:03.143765  treatment     new_page          0\n",
       "4   864975  2017-01-21 01:52:26.210827    control     old_page          1"
      ]
     },
     "metadata": {},
     "output_type": "display_data"
    }
   ],
   "source": [
    "df_raw.head()"
   ]
  },
  {
   "cell_type": "code",
   "execution_count": 14,
   "id": "67485638",
   "metadata": {
    "ExecuteTime": {
     "end_time": "2022-07-06T10:21:47.192557Z",
     "start_time": "2022-07-06T10:21:47.086836Z"
    },
    "cell_style": "split",
    "hide_input": true,
    "scrolled": false
   },
   "outputs": [
    {
     "data": {
      "application/vnd.jupyter.widget-view+json": {
       "model_id": "97f761f1dbc6421d84f6e304242e7b3f",
       "version_major": 2,
       "version_minor": 0
      },
      "text/plain": [
       "LuxWidget(recommendations=[{'action': 'Vis List', 'description': 'Shows a vis list defined by the intent', 'vs…"
      ]
     },
     "metadata": {},
     "output_type": "display_data"
    }
   ],
   "source": [
    "VisList([\"converted\",\"landing_page\",],df_raw)"
   ]
  },
  {
   "cell_type": "code",
   "execution_count": 49,
   "id": "0fe7c22b",
   "metadata": {
    "ExecuteTime": {
     "end_time": "2022-07-06T09:51:30.848308Z",
     "start_time": "2022-07-06T09:51:30.840327Z"
    }
   },
   "outputs": [
    {
     "data": {
      "text/plain": [
       "(294478, 5)"
      ]
     },
     "execution_count": 49,
     "metadata": {},
     "output_type": "execute_result"
    }
   ],
   "source": [
    "df_raw.shape"
   ]
  },
  {
   "cell_type": "markdown",
   "id": "b7c694c5",
   "metadata": {},
   "source": [
    "## DOE"
   ]
  },
  {
   "cell_type": "markdown",
   "id": "d1cb4c17",
   "metadata": {},
   "source": [
    "### Hypothesys"
   ]
  },
  {
   "cell_type": "code",
   "execution_count": 5,
   "id": "ae9f4856",
   "metadata": {
    "ExecuteTime": {
     "end_time": "2022-07-06T08:36:57.876004Z",
     "start_time": "2022-07-06T08:36:57.860912Z"
    }
   },
   "outputs": [],
   "source": [
    "# H0: A conversao da nova pagina è de 13%\n",
    "# H1: A conversao è diferente de 13%"
   ]
  },
  {
   "cell_type": "markdown",
   "id": "1057d33c",
   "metadata": {
    "run_control": {
     "marked": true
    }
   },
   "source": [
    "### Parametres"
   ]
  },
  {
   "cell_type": "code",
   "execution_count": 6,
   "id": "469dd50b",
   "metadata": {
    "ExecuteTime": {
     "end_time": "2022-07-06T08:36:57.892008Z",
     "start_time": "2022-07-06T08:36:57.877005Z"
    },
    "run_control": {
     "marked": true
    }
   },
   "outputs": [],
   "source": [
    "## Nível de confiança:\n",
    "confidence_level = 0.95\n",
    "    \n",
    "## Nível de significância:\n",
    "significance_level= 0.05\n",
    "\n",
    "## webpage conversion\n",
    "p1=0.13\n",
    "p2=0.15\n",
    "p=0.1 ## conversao historica\n",
    "                   \n",
    "## Effect Size\n",
    "effect_size=sms.proportion_effectsize(p1,p2)\n",
    "\n",
    "## Poder Estatístico\n",
    "statistic_power=0.8\n"
   ]
  },
  {
   "cell_type": "markdown",
   "id": "cd75f283",
   "metadata": {},
   "source": [
    "### Sampling - Aleatoria simples"
   ]
  },
  {
   "cell_type": "code",
   "execution_count": 7,
   "id": "c575610e",
   "metadata": {
    "ExecuteTime": {
     "end_time": "2022-07-06T08:36:57.906907Z",
     "start_time": "2022-07-06T08:36:57.894004Z"
    }
   },
   "outputs": [
    {
     "data": {
      "text/plain": [
       "4720"
      ]
     },
     "execution_count": 7,
     "metadata": {},
     "output_type": "execute_result"
    }
   ],
   "source": [
    "## sample size\n",
    "sample_n=sms.NormalIndPower().solve_power( ## metade dos dados\n",
    "    effect_size,\n",
    "    power=statistic_power,\n",
    "    alpha=significance_level\n",
    "    )\n",
    "\n",
    "sample_n=math.ceil(sample_n)\n",
    "\n",
    "sample_n ## controle"
   ]
  },
  {
   "cell_type": "code",
   "execution_count": 8,
   "id": "c22bb1e0",
   "metadata": {
    "ExecuteTime": {
     "end_time": "2022-07-06T08:36:57.921862Z",
     "start_time": "2022-07-06T08:36:57.908913Z"
    }
   },
   "outputs": [
    {
     "data": {
      "text/plain": [
       "9440"
      ]
     },
     "execution_count": 8,
     "metadata": {},
     "output_type": "execute_result"
    }
   ],
   "source": [
    "sample_total= 2*sample_n # samplig de p1 e p2\n",
    "sample_total"
   ]
  },
  {
   "cell_type": "code",
   "execution_count": 9,
   "id": "ab0c54bd",
   "metadata": {
    "ExecuteTime": {
     "end_time": "2022-07-06T08:36:57.937820Z",
     "start_time": "2022-07-06T08:36:57.922880Z"
    },
    "scrolled": true
   },
   "outputs": [
    {
     "data": {
      "text/plain": [
       "47200.0"
      ]
     },
     "execution_count": 9,
     "metadata": {},
     "output_type": "execute_result"
    }
   ],
   "source": [
    "#sabendo que temos 10% de abertura mail para obter a amostra necessaria precisamos enviar 110% a mais\n",
    "n_invio_mail=sample_n/p\n",
    "n_invio_mail"
   ]
  },
  {
   "cell_type": "markdown",
   "id": "5be24b93",
   "metadata": {},
   "source": [
    "## Preparaçao dos dados"
   ]
  },
  {
   "cell_type": "code",
   "execution_count": 10,
   "id": "b57323db",
   "metadata": {
    "ExecuteTime": {
     "end_time": "2022-07-06T08:36:58.063166Z",
     "start_time": "2022-07-06T08:36:57.939816Z"
    },
    "run_control": {
     "marked": true
    }
   },
   "outputs": [],
   "source": [
    "df_aux=df_raw[['user_id','group']].groupby('user_id').count().reset_index().query('group >1')\n",
    "df3=df_raw[~df_raw['user_id'].isin(df_aux['user_id'])]"
   ]
  },
  {
   "cell_type": "markdown",
   "id": "b1581f86",
   "metadata": {
    "ExecuteTime": {
     "end_time": "2022-07-05T14:36:42.323769Z",
     "start_time": "2022-07-05T14:36:42.302823Z"
    }
   },
   "source": [
    "## Amostragem"
   ]
  },
  {
   "cell_type": "code",
   "execution_count": 11,
   "id": "2b0005af",
   "metadata": {
    "ExecuteTime": {
     "end_time": "2022-07-06T08:36:58.110265Z",
     "start_time": "2022-07-06T08:36:58.064169Z"
    }
   },
   "outputs": [
    {
     "name": "stdout",
     "output_type": "stream",
     "text": [
      "Size of control Group:4720\n"
     ]
    }
   ],
   "source": [
    "df_control_sample=df3[df3['group']=='control'].sample(n=sample_n, random_state=32)\n",
    "print('Size of control Group:{}'.format(df_control_sample.shape[0]))"
   ]
  },
  {
   "cell_type": "code",
   "execution_count": 12,
   "id": "61b2bb1e",
   "metadata": {
    "ExecuteTime": {
     "end_time": "2022-07-06T08:36:58.157085Z",
     "start_time": "2022-07-06T08:36:58.111263Z"
    }
   },
   "outputs": [
    {
     "name": "stdout",
     "output_type": "stream",
     "text": [
      "Size of treatment Group:4720\n"
     ]
    }
   ],
   "source": [
    "df_treatment_sample=df3[df3['group']=='treatment'].sample(n=sample_n, random_state=32)\n",
    "print('Size of treatment Group:{}'.format(df_treatment_sample.shape[0]))"
   ]
  },
  {
   "cell_type": "markdown",
   "id": "9d6b371e",
   "metadata": {},
   "source": [
    "## Taxa de conversao "
   ]
  },
  {
   "cell_type": "code",
   "execution_count": 13,
   "id": "dc542c33",
   "metadata": {
    "ExecuteTime": {
     "end_time": "2022-07-06T08:36:58.172905Z",
     "start_time": "2022-07-06T08:36:58.157894Z"
    }
   },
   "outputs": [
    {
     "name": "stdout",
     "output_type": "stream",
     "text": [
      "Conversion Rate - Control Group:0.11864406779661017\n",
      "Conversion Rate - Treatment Group:0.11970338983050847\n"
     ]
    }
   ],
   "source": [
    "converted=df_control_sample.loc[df_control_sample['converted']==1,'converted'].sum()\n",
    "conversion_rate_control=converted/len(df_control_sample['converted'])\n",
    "print('Conversion Rate - Control Group:{}'.format(conversion_rate_control))\n",
    "\n",
    "converted=df_treatment_sample.loc[df_treatment_sample['converted']==1,'converted'].sum()\n",
    "conversion_rate_treatment=converted/len(df_treatment_sample['converted'])\n",
    "print('Conversion Rate - Treatment Group:{}'.format(conversion_rate_treatment))\n",
    "\n",
    "df_ab=pd.concat([df_control_sample,df_treatment_sample])\n"
   ]
  },
  {
   "cell_type": "markdown",
   "id": "2391c2c5",
   "metadata": {},
   "source": [
    "## Teste de hipotese"
   ]
  },
  {
   "cell_type": "code",
   "execution_count": 14,
   "id": "60feedef",
   "metadata": {
    "ExecuteTime": {
     "end_time": "2022-07-06T08:36:58.236648Z",
     "start_time": "2022-07-06T08:36:58.173884Z"
    }
   },
   "outputs": [
    {
     "name": "stdout",
     "output_type": "stream",
     "text": [
      "p-value:0.91:\n",
      "Falha em rejeitar a hipotese nula\n"
     ]
    },
    {
     "data": {
      "text/html": [
       "<div>\n",
       "<style scoped>\n",
       "    .dataframe tbody tr th:only-of-type {\n",
       "        vertical-align: middle;\n",
       "    }\n",
       "\n",
       "    .dataframe tbody tr th {\n",
       "        vertical-align: top;\n",
       "    }\n",
       "\n",
       "    .dataframe thead th {\n",
       "        text-align: right;\n",
       "    }\n",
       "</style>\n",
       "<table border=\"1\" class=\"dataframe\">\n",
       "  <thead>\n",
       "    <tr style=\"text-align: right;\">\n",
       "      <th></th>\n",
       "      <th>converted</th>\n",
       "      <th>non_converted</th>\n",
       "    </tr>\n",
       "    <tr>\n",
       "      <th>group</th>\n",
       "      <th></th>\n",
       "      <th></th>\n",
       "    </tr>\n",
       "  </thead>\n",
       "  <tbody>\n",
       "    <tr>\n",
       "      <th>control</th>\n",
       "      <td>560</td>\n",
       "      <td>4720</td>\n",
       "    </tr>\n",
       "    <tr>\n",
       "      <th>treatment</th>\n",
       "      <td>565</td>\n",
       "      <td>4720</td>\n",
       "    </tr>\n",
       "  </tbody>\n",
       "</table>\n",
       "</div>"
      ],
      "text/plain": [
       "           converted  non_converted\n",
       "group                              \n",
       "control          560           4720\n",
       "treatment        565           4720"
      ]
     },
     "execution_count": 14,
     "metadata": {},
     "output_type": "execute_result"
    }
   ],
   "source": [
    "df_table=df_ab[['group','converted']].groupby('group').agg({'converted':['sum','count']})\n",
    "df_table.columns=['converted','non_converted']#so pra melhorar a disposiçao da tabela\n",
    "chi_val, pval, dof, expected = chi2_contingency(df_table)\n",
    "print('p-value:{:.2f}:'.format(pval))\n",
    "if pval < significance_level:\n",
    "    print('Rejeita hipotese nula')\n",
    "else:\n",
    "    print('Falha em rejeitar a hipotese nula' )\n",
    "df_table\n"
   ]
  },
  {
   "cell_type": "markdown",
   "id": "ad0f703f",
   "metadata": {},
   "source": [
    "## Conversao de resultado para R$"
   ]
  },
  {
   "cell_type": "code",
   "execution_count": 15,
   "id": "012c65d9",
   "metadata": {
    "ExecuteTime": {
     "end_time": "2022-07-06T08:36:58.252059Z",
     "start_time": "2022-07-06T08:36:58.237645Z"
    }
   },
   "outputs": [],
   "source": [
    "# conversao pagina_atual =13%\n",
    "# conversao pagina_nova = 15%\n",
    "\n",
    "# compradores= n_visitantes diario * % conversao pagina_atual \n",
    "# GMV=compradores*tiket medio (4500)"
   ]
  },
  {
   "cell_type": "code",
   "execution_count": 16,
   "id": "2c4fd189",
   "metadata": {
    "ExecuteTime": {
     "end_time": "2022-07-06T08:36:58.268025Z",
     "start_time": "2022-07-06T08:36:58.253094Z"
    }
   },
   "outputs": [],
   "source": [
    "df4=df3.copy()"
   ]
  },
  {
   "cell_type": "code",
   "execution_count": 17,
   "id": "7e3dd867",
   "metadata": {
    "ExecuteTime": {
     "end_time": "2022-07-06T08:36:59.806004Z",
     "start_time": "2022-07-06T08:36:58.269051Z"
    }
   },
   "outputs": [],
   "source": [
    "df4['timestamp']=pd.to_datetime(df4['timestamp']).apply(lambda x: x.strftime('%Y-%m-%d'))\n",
    "df5=df4[['user_id','timestamp']].groupby('timestamp').count().reset_index()"
   ]
  },
  {
   "cell_type": "code",
   "execution_count": 30,
   "id": "da0c43de",
   "metadata": {
    "ExecuteTime": {
     "end_time": "2022-07-06T08:45:23.940753Z",
     "start_time": "2022-07-06T08:45:23.920842Z"
    }
   },
   "outputs": [],
   "source": [
    "# Currente GMV\n",
    "df5['current_purchase']=np.ceil(df5['user_id']*0.13).astype(int)\n",
    "df5['current_GMV']=df5['current_purchase']*4500\n",
    "current_gmv=df5['current_GMV'].sum()\n"
   ]
  },
  {
   "cell_type": "code",
   "execution_count": 38,
   "id": "253a9b48",
   "metadata": {
    "ExecuteTime": {
     "end_time": "2022-07-06T08:49:46.539043Z",
     "start_time": "2022-07-06T08:49:46.529604Z"
    }
   },
   "outputs": [],
   "source": [
    "# New GMV\n",
    "df5['new_purchase']=np.ceil(df5['user_id']*0.14).astype(int)\n",
    "df5['new_GMV']=df5['new_purchase']*4500\n",
    "new_GMV=df5['new_GMV'].sum()\n"
   ]
  },
  {
   "cell_type": "code",
   "execution_count": 42,
   "id": "bb11a03a",
   "metadata": {
    "ExecuteTime": {
     "end_time": "2022-07-06T08:53:24.482813Z",
     "start_time": "2022-07-06T08:53:24.467851Z"
    },
    "scrolled": true
   },
   "outputs": [],
   "source": [
    "lift_abs=new_GMV-current_gmv\n",
    "lift=100*(new_GMV-current_gmv)/current_gmv"
   ]
  },
  {
   "cell_type": "code",
   "execution_count": 43,
   "id": "24b564a0",
   "metadata": {
    "ExecuteTime": {
     "end_time": "2022-07-06T08:53:25.213638Z",
     "start_time": "2022-07-06T08:53:25.201469Z"
    }
   },
   "outputs": [
    {
     "name": "stdout",
     "output_type": "stream",
     "text": [
      "GMV on period:167760000\n",
      "New GMV on period:180666000\n",
      "Abs Lift: 12906000\n",
      "Expected Lift:7.69%\n"
     ]
    }
   ],
   "source": [
    "\n",
    "print('GMV on period:{}'.format(current_gmv))\n",
    "print('New GMV on period:{}'.format(new_GMV))\n",
    "print('Abs Lift: {}'.format(lift_abs))\n",
    "print('Expected Lift:{:.2f}%'.format(lift))\n",
    "\n"
   ]
  },
  {
   "cell_type": "code",
   "execution_count": 22,
   "id": "023609c3",
   "metadata": {
    "ExecuteTime": {
     "end_time": "2022-07-06T08:37:41.758924Z",
     "start_time": "2022-07-06T08:37:41.739023Z"
    },
    "scrolled": true
   },
   "outputs": [
    {
     "data": {
      "text/html": [
       "<div>\n",
       "<style scoped>\n",
       "    .dataframe tbody tr th:only-of-type {\n",
       "        vertical-align: middle;\n",
       "    }\n",
       "\n",
       "    .dataframe tbody tr th {\n",
       "        vertical-align: top;\n",
       "    }\n",
       "\n",
       "    .dataframe thead th {\n",
       "        text-align: right;\n",
       "    }\n",
       "</style>\n",
       "<table border=\"1\" class=\"dataframe\">\n",
       "  <thead>\n",
       "    <tr style=\"text-align: right;\">\n",
       "      <th></th>\n",
       "      <th>timestamp</th>\n",
       "      <th>user_id</th>\n",
       "      <th>current_purchase</th>\n",
       "      <th>current_GMV</th>\n",
       "      <th>new_purchase</th>\n",
       "      <th>new_GMV</th>\n",
       "    </tr>\n",
       "  </thead>\n",
       "  <tbody>\n",
       "    <tr>\n",
       "      <th>0</th>\n",
       "      <td>2017-01-02</td>\n",
       "      <td>5631</td>\n",
       "      <td>732.03</td>\n",
       "      <td>3294135.0</td>\n",
       "      <td>844.65</td>\n",
       "      <td>3800925.0</td>\n",
       "    </tr>\n",
       "    <tr>\n",
       "      <th>1</th>\n",
       "      <td>2017-01-03</td>\n",
       "      <td>13025</td>\n",
       "      <td>1693.25</td>\n",
       "      <td>7619625.0</td>\n",
       "      <td>1953.75</td>\n",
       "      <td>8791875.0</td>\n",
       "    </tr>\n",
       "    <tr>\n",
       "      <th>2</th>\n",
       "      <td>2017-01-04</td>\n",
       "      <td>12929</td>\n",
       "      <td>1680.77</td>\n",
       "      <td>7563465.0</td>\n",
       "      <td>1939.35</td>\n",
       "      <td>8727075.0</td>\n",
       "    </tr>\n",
       "    <tr>\n",
       "      <th>3</th>\n",
       "      <td>2017-01-05</td>\n",
       "      <td>12748</td>\n",
       "      <td>1657.24</td>\n",
       "      <td>7457580.0</td>\n",
       "      <td>1912.20</td>\n",
       "      <td>8604900.0</td>\n",
       "    </tr>\n",
       "    <tr>\n",
       "      <th>4</th>\n",
       "      <td>2017-01-06</td>\n",
       "      <td>13168</td>\n",
       "      <td>1711.84</td>\n",
       "      <td>7703280.0</td>\n",
       "      <td>1975.20</td>\n",
       "      <td>8888400.0</td>\n",
       "    </tr>\n",
       "  </tbody>\n",
       "</table>\n",
       "</div>"
      ],
      "text/plain": [
       "    timestamp  user_id  current_purchase  current_GMV  new_purchase    new_GMV\n",
       "0  2017-01-02     5631            732.03    3294135.0        844.65  3800925.0\n",
       "1  2017-01-03    13025           1693.25    7619625.0       1953.75  8791875.0\n",
       "2  2017-01-04    12929           1680.77    7563465.0       1939.35  8727075.0\n",
       "3  2017-01-05    12748           1657.24    7457580.0       1912.20  8604900.0\n",
       "4  2017-01-06    13168           1711.84    7703280.0       1975.20  8888400.0"
      ]
     },
     "execution_count": 22,
     "metadata": {},
     "output_type": "execute_result"
    }
   ],
   "source": [
    "df5.head()"
   ]
  },
  {
   "cell_type": "code",
   "execution_count": null,
   "id": "233854df",
   "metadata": {},
   "outputs": [],
   "source": []
  }
 ],
 "metadata": {
  "hide_input": false,
  "kernelspec": {
   "display_name": "Python 3 (ipykernel)",
   "language": "python",
   "name": "python3"
  },
  "language_info": {
   "codemirror_mode": {
    "name": "ipython",
    "version": 3
   },
   "file_extension": ".py",
   "mimetype": "text/x-python",
   "name": "python",
   "nbconvert_exporter": "python",
   "pygments_lexer": "ipython3",
   "version": "3.9.12"
  },
  "toc": {
   "base_numbering": 1,
   "nav_menu": {},
   "number_sections": true,
   "sideBar": true,
   "skip_h1_title": false,
   "title_cell": "Table of Contents",
   "title_sidebar": "Contents",
   "toc_cell": false,
   "toc_position": {
    "height": "calc(100% - 180px)",
    "left": "10px",
    "top": "150px",
    "width": "201.825px"
   },
   "toc_section_display": true,
   "toc_window_display": true
  }
 },
 "nbformat": 4,
 "nbformat_minor": 5
}

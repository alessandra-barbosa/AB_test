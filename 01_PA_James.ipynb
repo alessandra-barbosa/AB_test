{
 "cells": [
  {
   "cell_type": "markdown",
   "id": "0603ea1c",
   "metadata": {
    "ExecuteTime": {
     "end_time": "2022-07-02T17:38:39.095863Z",
     "start_time": "2022-07-02T17:38:39.087859Z"
    }
   },
   "source": [
    "## Import"
   ]
  },
  {
   "cell_type": "code",
   "execution_count": 2,
   "id": "6d67abbc",
   "metadata": {
    "ExecuteTime": {
     "end_time": "2022-07-03T10:52:33.886478Z",
     "start_time": "2022-07-03T10:52:29.148176Z"
    }
   },
   "outputs": [],
   "source": [
    "import pandas as pd\n",
    "from statsmodels.stats import api as sms\n",
    "import numpy as np\n",
    "import math "
   ]
  },
  {
   "cell_type": "markdown",
   "id": "0622c4f5",
   "metadata": {
    "ExecuteTime": {
     "end_time": "2022-07-02T17:38:46.339531Z",
     "start_time": "2022-07-02T17:38:46.331569Z"
    }
   },
   "source": [
    "## Loading"
   ]
  },
  {
   "cell_type": "code",
   "execution_count": 3,
   "id": "ac2ac4af",
   "metadata": {
    "ExecuteTime": {
     "end_time": "2022-07-03T10:52:34.109356Z",
     "start_time": "2022-07-03T10:52:33.887481Z"
    },
    "scrolled": true
   },
   "outputs": [],
   "source": [
    "df_raw=pd.read_csv('C:/Users/Utente77/repos/AB_Test/dataset/ab_data.csv')"
   ]
  },
  {
   "cell_type": "code",
   "execution_count": 4,
   "id": "991307bf",
   "metadata": {
    "ExecuteTime": {
     "end_time": "2022-07-03T10:52:34.140420Z",
     "start_time": "2022-07-03T10:52:34.110392Z"
    },
    "scrolled": true
   },
   "outputs": [
    {
     "data": {
      "text/html": [
       "<div>\n",
       "<style scoped>\n",
       "    .dataframe tbody tr th:only-of-type {\n",
       "        vertical-align: middle;\n",
       "    }\n",
       "\n",
       "    .dataframe tbody tr th {\n",
       "        vertical-align: top;\n",
       "    }\n",
       "\n",
       "    .dataframe thead th {\n",
       "        text-align: right;\n",
       "    }\n",
       "</style>\n",
       "<table border=\"1\" class=\"dataframe\">\n",
       "  <thead>\n",
       "    <tr style=\"text-align: right;\">\n",
       "      <th></th>\n",
       "      <th>user_id</th>\n",
       "      <th>timestamp</th>\n",
       "      <th>group</th>\n",
       "      <th>landing_page</th>\n",
       "      <th>converted</th>\n",
       "    </tr>\n",
       "  </thead>\n",
       "  <tbody>\n",
       "    <tr>\n",
       "      <th>0</th>\n",
       "      <td>851104</td>\n",
       "      <td>2017-01-21 22:11:48.556739</td>\n",
       "      <td>control</td>\n",
       "      <td>old_page</td>\n",
       "      <td>0</td>\n",
       "    </tr>\n",
       "    <tr>\n",
       "      <th>1</th>\n",
       "      <td>804228</td>\n",
       "      <td>2017-01-12 08:01:45.159739</td>\n",
       "      <td>control</td>\n",
       "      <td>old_page</td>\n",
       "      <td>0</td>\n",
       "    </tr>\n",
       "    <tr>\n",
       "      <th>2</th>\n",
       "      <td>661590</td>\n",
       "      <td>2017-01-11 16:55:06.154213</td>\n",
       "      <td>treatment</td>\n",
       "      <td>new_page</td>\n",
       "      <td>0</td>\n",
       "    </tr>\n",
       "    <tr>\n",
       "      <th>3</th>\n",
       "      <td>853541</td>\n",
       "      <td>2017-01-08 18:28:03.143765</td>\n",
       "      <td>treatment</td>\n",
       "      <td>new_page</td>\n",
       "      <td>0</td>\n",
       "    </tr>\n",
       "    <tr>\n",
       "      <th>4</th>\n",
       "      <td>864975</td>\n",
       "      <td>2017-01-21 01:52:26.210827</td>\n",
       "      <td>control</td>\n",
       "      <td>old_page</td>\n",
       "      <td>1</td>\n",
       "    </tr>\n",
       "  </tbody>\n",
       "</table>\n",
       "</div>"
      ],
      "text/plain": [
       "   user_id                   timestamp      group landing_page  converted\n",
       "0   851104  2017-01-21 22:11:48.556739    control     old_page          0\n",
       "1   804228  2017-01-12 08:01:45.159739    control     old_page          0\n",
       "2   661590  2017-01-11 16:55:06.154213  treatment     new_page          0\n",
       "3   853541  2017-01-08 18:28:03.143765  treatment     new_page          0\n",
       "4   864975  2017-01-21 01:52:26.210827    control     old_page          1"
      ]
     },
     "execution_count": 4,
     "metadata": {},
     "output_type": "execute_result"
    }
   ],
   "source": [
    "df_raw.head()"
   ]
  },
  {
   "cell_type": "code",
   "execution_count": 5,
   "id": "0fe7c22b",
   "metadata": {
    "ExecuteTime": {
     "end_time": "2022-07-03T10:52:34.156401Z",
     "start_time": "2022-07-03T10:52:34.142411Z"
    }
   },
   "outputs": [
    {
     "data": {
      "text/plain": [
       "(294478, 5)"
      ]
     },
     "execution_count": 5,
     "metadata": {},
     "output_type": "execute_result"
    }
   ],
   "source": [
    "df_raw.shape"
   ]
  },
  {
   "cell_type": "markdown",
   "id": "b7c694c5",
   "metadata": {},
   "source": [
    "## DOE"
   ]
  },
  {
   "cell_type": "markdown",
   "id": "d1cb4c17",
   "metadata": {},
   "source": [
    "### Hypothesys"
   ]
  },
  {
   "cell_type": "markdown",
   "id": "1057d33c",
   "metadata": {
    "run_control": {
     "marked": true
    }
   },
   "source": [
    "### Parametres"
   ]
  },
  {
   "cell_type": "code",
   "execution_count": 6,
   "id": "469dd50b",
   "metadata": {
    "ExecuteTime": {
     "end_time": "2022-07-03T10:52:35.053442Z",
     "start_time": "2022-07-03T10:52:35.034482Z"
    },
    "run_control": {
     "marked": true
    }
   },
   "outputs": [],
   "source": [
    "## Nível de confiança:\n",
    "confidence_level = 0.95\n",
    "    \n",
    "## Nível de significância:\n",
    "significance_level= 0.05\n",
    "\n",
    "## webpage conversion\n",
    "p1=0.13\n",
    "p2=0.15\n",
    "p=0.1 ## conversao historica\n",
    "                   \n",
    "## Effect Size\n",
    "effect_size=sms.proportion_effectsize(p1,p2)\n",
    "\n",
    "## Poder Estatístico\n",
    "statistic_power=0.8\n"
   ]
  },
  {
   "cell_type": "markdown",
   "id": "cd75f283",
   "metadata": {},
   "source": [
    "## Sampling - Aleatoria simples"
   ]
  },
  {
   "cell_type": "code",
   "execution_count": 7,
   "id": "c575610e",
   "metadata": {
    "ExecuteTime": {
     "end_time": "2022-07-03T10:52:36.317466Z",
     "start_time": "2022-07-03T10:52:36.296836Z"
    }
   },
   "outputs": [],
   "source": [
    "## sample size\n",
    "sample_n=sms.NormalIndPower().solve_power( ## metade dos dados\n",
    "    effect_size,\n",
    "    power=statistic_power,\n",
    "    alpha=significance_level\n",
    "    )\n",
    "\n",
    "sample_n=math.ceil(sample_n)"
   ]
  },
  {
   "cell_type": "code",
   "execution_count": 8,
   "id": "fb404fe3",
   "metadata": {
    "ExecuteTime": {
     "end_time": "2022-07-03T10:52:36.824250Z",
     "start_time": "2022-07-03T10:52:36.808643Z"
    }
   },
   "outputs": [
    {
     "data": {
      "text/plain": [
       "4720"
      ]
     },
     "execution_count": 8,
     "metadata": {},
     "output_type": "execute_result"
    }
   ],
   "source": [
    "sample_n ## controle"
   ]
  },
  {
   "cell_type": "code",
   "execution_count": 9,
   "id": "c22bb1e0",
   "metadata": {
    "ExecuteTime": {
     "end_time": "2022-07-03T10:52:37.554204Z",
     "start_time": "2022-07-03T10:52:37.535352Z"
    }
   },
   "outputs": [
    {
     "data": {
      "text/plain": [
       "9440"
      ]
     },
     "execution_count": 9,
     "metadata": {},
     "output_type": "execute_result"
    }
   ],
   "source": [
    "sample_total= 2*sample_n # samplig de p1 e p2\n",
    "sample_total"
   ]
  },
  {
   "cell_type": "code",
   "execution_count": 13,
   "id": "ab0c54bd",
   "metadata": {
    "ExecuteTime": {
     "end_time": "2022-07-03T10:53:36.181660Z",
     "start_time": "2022-07-03T10:53:36.162850Z"
    }
   },
   "outputs": [
    {
     "data": {
      "text/plain": [
       "47200.0"
      ]
     },
     "execution_count": 13,
     "metadata": {},
     "output_type": "execute_result"
    }
   ],
   "source": [
    "#sabendo que temos 10% de abertura mail para obter a amostra necessaria precisamos enviar 110% a mais\n",
    "n_invio_mail=sample_n/p\n",
    "n_invio_mail"
   ]
  },
  {
   "cell_type": "code",
   "execution_count": null,
   "id": "5c53be30",
   "metadata": {
    "ExecuteTime": {
     "end_time": "2022-07-03T10:52:38.859250Z",
     "start_time": "2022-07-03T10:52:38.846285Z"
    }
   },
   "outputs": [],
   "source": []
  },
  {
   "cell_type": "code",
   "execution_count": null,
   "id": "ae9f4856",
   "metadata": {},
   "outputs": [],
   "source": []
  }
 ],
 "metadata": {
  "hide_input": false,
  "kernelspec": {
   "display_name": "Python 3 (ipykernel)",
   "language": "python",
   "name": "python3"
  },
  "language_info": {
   "codemirror_mode": {
    "name": "ipython",
    "version": 3
   },
   "file_extension": ".py",
   "mimetype": "text/x-python",
   "name": "python",
   "nbconvert_exporter": "python",
   "pygments_lexer": "ipython3",
   "version": "3.9.12"
  },
  "toc": {
   "base_numbering": 1,
   "nav_menu": {},
   "number_sections": true,
   "sideBar": true,
   "skip_h1_title": false,
   "title_cell": "Table of Contents",
   "title_sidebar": "Contents",
   "toc_cell": false,
   "toc_position": {},
   "toc_section_display": true,
   "toc_window_display": true
  }
 },
 "nbformat": 4,
 "nbformat_minor": 5
}

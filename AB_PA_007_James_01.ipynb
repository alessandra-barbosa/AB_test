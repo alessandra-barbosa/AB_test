{
 "cells": [
  {
   "cell_type": "markdown",
   "id": "13ce6ec9",
   "metadata": {},
   "source": [
    "## A/B Test\n",
    "### Dataset\n",
    "https://www.kaggle.com/datasets/zhangluyuan/ab-testing?select=ab_data.csv\n"
   ]
  },
  {
   "cell_type": "markdown",
   "id": "0603ea1c",
   "metadata": {
    "ExecuteTime": {
     "end_time": "2022-07-02T17:38:39.095863Z",
     "start_time": "2022-07-02T17:38:39.087859Z"
    }
   },
   "source": [
    "## Import"
   ]
  },
  {
   "cell_type": "code",
   "execution_count": 45,
   "id": "6d67abbc",
   "metadata": {
    "ExecuteTime": {
     "end_time": "2022-07-06T10:47:34.117873Z",
     "start_time": "2022-07-06T10:47:34.110880Z"
    }
   },
   "outputs": [],
   "source": [
    "import pandas as pd\n",
    "import numpy as np\n",
    "import math \n",
    "from statsmodels.stats import api as sms\n",
    "from scipy.stats import chi2_contingency\n",
    "import lux\n",
    "from lux.vis.VisList import VisList"
   ]
  },
  {
   "cell_type": "markdown",
   "id": "0622c4f5",
   "metadata": {
    "ExecuteTime": {
     "end_time": "2022-07-02T17:38:46.339531Z",
     "start_time": "2022-07-02T17:38:46.331569Z"
    }
   },
   "source": [
    "## Loading"
   ]
  },
  {
   "cell_type": "code",
   "execution_count": 46,
   "id": "ac2ac4af",
   "metadata": {
    "ExecuteTime": {
     "end_time": "2022-07-06T10:47:34.353518Z",
     "start_time": "2022-07-06T10:47:34.119857Z"
    },
    "scrolled": true
   },
   "outputs": [],
   "source": [
    "df_raw=pd.read_csv('C:/Users/Utente77/repos/AB_Test/dataset/ab_data.csv')"
   ]
  },
  {
   "cell_type": "code",
   "execution_count": 47,
   "id": "0fe7c22b",
   "metadata": {
    "ExecuteTime": {
     "end_time": "2022-07-06T10:47:34.369574Z",
     "start_time": "2022-07-06T10:47:34.356541Z"
    }
   },
   "outputs": [
    {
     "data": {
      "text/plain": [
       "(294478, 5)"
      ]
     },
     "execution_count": 47,
     "metadata": {},
     "output_type": "execute_result"
    }
   ],
   "source": [
    "df_raw.shape"
   ]
  },
  {
   "cell_type": "code",
   "execution_count": 48,
   "id": "991307bf",
   "metadata": {
    "ExecuteTime": {
     "end_time": "2022-07-06T10:47:37.696667Z",
     "start_time": "2022-07-06T10:47:34.371513Z"
    },
    "cell_style": "split",
    "hide_input": true,
    "scrolled": true
   },
   "outputs": [
    {
     "name": "stderr",
     "output_type": "stream",
     "text": [
      "C:\\Users\\Utente77\\Anaconda3\\envs\\AB_Test_james\\lib\\site-packages\\lux\\executor\\PandasExecutor.py:448: UserWarning:\n",
      "Lux detects that the attribute 'timestamp' may be temporal.\n",
      "To display visualizations for these attributes accurately, please convert temporal attributes to Datetime objects.\n",
      "For example, you can convert a Year attribute (e.g., 1998, 1971, 1982) using pd.to_datetime by specifying the `format` as '%Y'.\n",
      "\n",
      "Here is a starter template that you can use for converting the temporal fields:\n",
      "\tdf['timestamp'] = pd.to_datetime(df['timestamp'], format='<replace-with-datetime-format>')\n",
      "\n",
      "See more at: https://pandas.pydata.org/pandas-docs/stable/reference/api/pandas.to_datetime.html\n",
      "If timestamp is not a temporal attribute, please use override Lux's automatically detected type:\n",
      "\tdf.set_data_type({'timestamp':'quantitative'})\n",
      "C:\\Users\\Utente77\\Anaconda3\\envs\\AB_Test_james\\lib\\site-packages\\lux\\executor\\PandasExecutor.py:448: UserWarning:\n",
      "Lux detects that the attribute 'timestamp' may be temporal.\n",
      "To display visualizations for these attributes accurately, please convert temporal attributes to Datetime objects.\n",
      "For example, you can convert a Year attribute (e.g., 1998, 1971, 1982) using pd.to_datetime by specifying the `format` as '%Y'.\n",
      "\n",
      "Here is a starter template that you can use for converting the temporal fields:\n",
      "\tdf['timestamp'] = pd.to_datetime(df['timestamp'], format='<replace-with-datetime-format>')\n",
      "\n",
      "See more at: https://pandas.pydata.org/pandas-docs/stable/reference/api/pandas.to_datetime.html\n",
      "If timestamp is not a temporal attribute, please use override Lux's automatically detected type:\n",
      "\tdf.set_data_type({'timestamp':'quantitative'})\n"
     ]
    },
    {
     "data": {
      "application/vnd.jupyter.widget-view+json": {
       "model_id": "8d3e1fcc4e2b499ca22a51c7a0ba7856",
       "version_major": 2,
       "version_minor": 0
      },
      "text/plain": [
       "Button(description='Toggle Pandas/Lux', layout=Layout(top='5px', width='140px'), style=ButtonStyle())"
      ]
     },
     "metadata": {},
     "output_type": "display_data"
    },
    {
     "data": {
      "application/vnd.jupyter.widget-view+json": {
       "model_id": "1e6458ba208240e8bc6feb5eefd39f8e",
       "version_major": 2,
       "version_minor": 0
      },
      "text/plain": [
       "Output()"
      ]
     },
     "metadata": {},
     "output_type": "display_data"
    }
   ],
   "source": [
    "df_raw.head()"
   ]
  },
  {
   "cell_type": "code",
   "execution_count": 49,
   "id": "30cab70a",
   "metadata": {
    "ExecuteTime": {
     "end_time": "2022-07-06T10:47:37.804386Z",
     "start_time": "2022-07-06T10:47:37.697646Z"
    },
    "cell_style": "split",
    "hide_input": true,
    "scrolled": false
   },
   "outputs": [
    {
     "data": {
      "application/vnd.jupyter.widget-view+json": {
       "model_id": "78a794e7b428489994de0b1425e5c070",
       "version_major": 2,
       "version_minor": 0
      },
      "text/plain": [
       "LuxWidget(recommendations=[{'action': 'Vis List', 'description': 'Shows a vis list defined by the intent', 'vs…"
      ]
     },
     "metadata": {},
     "output_type": "display_data"
    }
   ],
   "source": [
    "VisList([\"converted\",\"landing_page\",],df_raw)"
   ]
  },
  {
   "cell_type": "markdown",
   "id": "b7c694c5",
   "metadata": {},
   "source": [
    "## DOE"
   ]
  },
  {
   "cell_type": "markdown",
   "id": "d1cb4c17",
   "metadata": {},
   "source": [
    "### Hypothesis"
   ]
  },
  {
   "cell_type": "code",
   "execution_count": 50,
   "id": "ae9f4856",
   "metadata": {
    "ExecuteTime": {
     "end_time": "2022-07-06T10:47:37.820343Z",
     "start_time": "2022-07-06T10:47:37.805378Z"
    }
   },
   "outputs": [],
   "source": [
    "# H0: A conversao da nova pagina è de 13%\n",
    "# H1: A conversao è diferente de 13%"
   ]
  },
  {
   "cell_type": "markdown",
   "id": "1057d33c",
   "metadata": {
    "run_control": {
     "marked": true
    }
   },
   "source": [
    "### Parametres"
   ]
  },
  {
   "cell_type": "code",
   "execution_count": 67,
   "id": "469dd50b",
   "metadata": {
    "ExecuteTime": {
     "end_time": "2022-07-06T10:48:58.254099Z",
     "start_time": "2022-07-06T10:48:58.245239Z"
    },
    "run_control": {
     "marked": true
    }
   },
   "outputs": [],
   "source": [
    "## Confidence_level:\n",
    "confidence_level = 0.95\n",
    "    \n",
    "## Significance_level:\n",
    "significance_level= 0.05\n",
    "\n",
    "## webpage conversion\n",
    "p1=0.13\n",
    "p2=0.15\n",
    "\n",
    "                   \n",
    "## Effect Size\n",
    "effect_size=sms.proportion_effectsize(p1,p2)\n",
    "\n",
    "## Statistic Power\n",
    "statistic_power=0.8\n"
   ]
  },
  {
   "cell_type": "markdown",
   "id": "cd75f283",
   "metadata": {},
   "source": [
    "### Sampling - Simple random"
   ]
  },
  {
   "cell_type": "code",
   "execution_count": 52,
   "id": "c575610e",
   "metadata": {
    "ExecuteTime": {
     "end_time": "2022-07-06T10:47:37.852219Z",
     "start_time": "2022-07-06T10:47:37.837259Z"
    }
   },
   "outputs": [
    {
     "data": {
      "text/plain": [
       "4720"
      ]
     },
     "execution_count": 52,
     "metadata": {},
     "output_type": "execute_result"
    }
   ],
   "source": [
    "## sample size\n",
    "sample_n=sms.NormalIndPower().solve_power( ## metade dos dados\n",
    "    effect_size,\n",
    "    power=statistic_power,\n",
    "    alpha=significance_level\n",
    "    )\n",
    "\n",
    "sample_n=math.ceil(sample_n)\n",
    "\n",
    "sample_n ## controle"
   ]
  },
  {
   "cell_type": "code",
   "execution_count": 53,
   "id": "c22bb1e0",
   "metadata": {
    "ExecuteTime": {
     "end_time": "2022-07-06T10:47:37.868177Z",
     "start_time": "2022-07-06T10:47:37.853217Z"
    }
   },
   "outputs": [
    {
     "data": {
      "text/plain": [
       "9440"
      ]
     },
     "execution_count": 53,
     "metadata": {},
     "output_type": "execute_result"
    }
   ],
   "source": [
    "sample_total= 2*sample_n # samplig de p1 e p2\n",
    "sample_total"
   ]
  },
  {
   "cell_type": "code",
   "execution_count": 54,
   "id": "ab0c54bd",
   "metadata": {
    "ExecuteTime": {
     "end_time": "2022-07-06T10:47:37.884134Z",
     "start_time": "2022-07-06T10:47:37.870171Z"
    },
    "scrolled": true
   },
   "outputs": [
    {
     "data": {
      "text/plain": [
       "47200.0"
      ]
     },
     "execution_count": 54,
     "metadata": {},
     "output_type": "execute_result"
    }
   ],
   "source": [
    "#sabendo que temos 10% de abertura mail para obter a amostra necessaria precisamos enviar 110% a mais\n",
    "n_invio_mail=sample_n/p\n",
    "n_invio_mail"
   ]
  },
  {
   "cell_type": "markdown",
   "id": "5be24b93",
   "metadata": {},
   "source": [
    "## Data prepare"
   ]
  },
  {
   "cell_type": "code",
   "execution_count": 55,
   "id": "b57323db",
   "metadata": {
    "ExecuteTime": {
     "end_time": "2022-07-06T10:47:38.027750Z",
     "start_time": "2022-07-06T10:47:37.885132Z"
    },
    "run_control": {
     "marked": true
    }
   },
   "outputs": [],
   "source": [
    "df_aux=df_raw[['user_id','group']].groupby('user_id').count().reset_index().query('group >1')\n",
    "df3=df_raw[~df_raw['user_id'].isin(df_aux['user_id'])]"
   ]
  },
  {
   "cell_type": "markdown",
   "id": "b1581f86",
   "metadata": {
    "ExecuteTime": {
     "end_time": "2022-07-05T14:36:42.323769Z",
     "start_time": "2022-07-05T14:36:42.302823Z"
    }
   },
   "source": [
    "## Sampling"
   ]
  },
  {
   "cell_type": "code",
   "execution_count": 56,
   "id": "2b0005af",
   "metadata": {
    "ExecuteTime": {
     "end_time": "2022-07-06T10:47:38.075661Z",
     "start_time": "2022-07-06T10:47:38.029746Z"
    }
   },
   "outputs": [
    {
     "name": "stdout",
     "output_type": "stream",
     "text": [
      "Size of control Group:4720\n"
     ]
    }
   ],
   "source": [
    "df_control_sample=df3[df3['group']=='control'].sample(n=sample_n, random_state=32)\n",
    "print('Size of control Group:{}'.format(df_control_sample.shape[0]))"
   ]
  },
  {
   "cell_type": "code",
   "execution_count": 57,
   "id": "61b2bb1e",
   "metadata": {
    "ExecuteTime": {
     "end_time": "2022-07-06T10:47:38.107538Z",
     "start_time": "2022-07-06T10:47:38.076630Z"
    }
   },
   "outputs": [
    {
     "name": "stdout",
     "output_type": "stream",
     "text": [
      "Size of treatment Group:4720\n"
     ]
    }
   ],
   "source": [
    "df_treatment_sample=df3[df3['group']=='treatment'].sample(n=sample_n, random_state=32)\n",
    "print('Size of treatment Group:{}'.format(df_treatment_sample.shape[0]))"
   ]
  },
  {
   "cell_type": "markdown",
   "id": "9d6b371e",
   "metadata": {},
   "source": [
    "## Conversion Tax "
   ]
  },
  {
   "cell_type": "code",
   "execution_count": 58,
   "id": "dc542c33",
   "metadata": {
    "ExecuteTime": {
     "end_time": "2022-07-06T10:47:38.123495Z",
     "start_time": "2022-07-06T10:47:38.108535Z"
    }
   },
   "outputs": [
    {
     "name": "stdout",
     "output_type": "stream",
     "text": [
      "Conversion Rate - Control Group:0.11864406779661017\n",
      "Conversion Rate - Treatment Group:0.11970338983050847\n"
     ]
    }
   ],
   "source": [
    "converted=df_control_sample.loc[df_control_sample['converted']==1,'converted'].sum()\n",
    "conversion_rate_control=converted/len(df_control_sample['converted'])\n",
    "print('Conversion Rate - Control Group:{}'.format(conversion_rate_control))\n",
    "\n",
    "converted=df_treatment_sample.loc[df_treatment_sample['converted']==1,'converted'].sum()\n",
    "conversion_rate_treatment=converted/len(df_treatment_sample['converted'])\n",
    "print('Conversion Rate - Treatment Group:{}'.format(conversion_rate_treatment))\n",
    "\n",
    "df_ab=pd.concat([df_control_sample,df_treatment_sample])\n"
   ]
  },
  {
   "cell_type": "markdown",
   "id": "2391c2c5",
   "metadata": {},
   "source": [
    "## Hypothesis test"
   ]
  },
  {
   "cell_type": "code",
   "execution_count": 59,
   "id": "60feedef",
   "metadata": {
    "ExecuteTime": {
     "end_time": "2022-07-06T10:47:38.327952Z",
     "start_time": "2022-07-06T10:47:38.124493Z"
    }
   },
   "outputs": [
    {
     "name": "stdout",
     "output_type": "stream",
     "text": [
      "p-value:0.91:\n",
      "Falha em rejeitar a hipotese nula\n"
     ]
    },
    {
     "data": {
      "application/vnd.jupyter.widget-view+json": {
       "model_id": "cc43a9ec5bf949dfb87c0b8c44f67cec",
       "version_major": 2,
       "version_minor": 0
      },
      "text/plain": [
       "Button(description='Toggle Pandas/Lux', layout=Layout(top='5px', width='140px'), style=ButtonStyle())"
      ]
     },
     "metadata": {},
     "output_type": "display_data"
    },
    {
     "data": {
      "application/vnd.jupyter.widget-view+json": {
       "model_id": "6558b72ff2014442af87817284b7acf0",
       "version_major": 2,
       "version_minor": 0
      },
      "text/plain": [
       "Output()"
      ]
     },
     "metadata": {},
     "output_type": "display_data"
    }
   ],
   "source": [
    "df_table=df_ab[['group','converted']].groupby('group').agg({'converted':['sum','count']})\n",
    "df_table.columns=['converted','non_converted']#so pra melhorar a disposiçao da tabela\n",
    "chi_val, pval, dof, expected = chi2_contingency(df_table)\n",
    "print('p-value:{:.2f}:'.format(pval))\n",
    "if pval < significance_level:\n",
    "    print('Rejeita hipotese nula')\n",
    "else:\n",
    "    print('Falha em rejeitar a hipotese nula' )\n",
    "df_table"
   ]
  },
  {
   "cell_type": "markdown",
   "id": "ad0f703f",
   "metadata": {},
   "source": [
    "## Results conversion $"
   ]
  },
  {
   "cell_type": "code",
   "execution_count": 60,
   "id": "012c65d9",
   "metadata": {
    "ExecuteTime": {
     "end_time": "2022-07-06T10:47:38.342943Z",
     "start_time": "2022-07-06T10:47:38.329945Z"
    }
   },
   "outputs": [],
   "source": [
    "# current page =13%\n",
    "# new page = 15%\n",
    "\n",
    "# buyers= n_visits daily * % current page \n",
    "# GMV=buyers*tiket (4500)"
   ]
  },
  {
   "cell_type": "code",
   "execution_count": 61,
   "id": "2c4fd189",
   "metadata": {
    "ExecuteTime": {
     "end_time": "2022-07-06T10:47:38.374854Z",
     "start_time": "2022-07-06T10:47:38.343939Z"
    }
   },
   "outputs": [],
   "source": [
    "df4=df3.copy()"
   ]
  },
  {
   "cell_type": "code",
   "execution_count": 62,
   "id": "7e3dd867",
   "metadata": {
    "ExecuteTime": {
     "end_time": "2022-07-06T10:47:40.172464Z",
     "start_time": "2022-07-06T10:47:38.375846Z"
    }
   },
   "outputs": [],
   "source": [
    "df4['timestamp']=pd.to_datetime(df4['timestamp']).apply(lambda x: x.strftime('%Y-%m-%d'))\n",
    "df5=df4[['user_id','timestamp']].groupby('timestamp').count().reset_index()"
   ]
  },
  {
   "cell_type": "code",
   "execution_count": 63,
   "id": "da0c43de",
   "metadata": {
    "ExecuteTime": {
     "end_time": "2022-07-06T10:47:40.188476Z",
     "start_time": "2022-07-06T10:47:40.175461Z"
    }
   },
   "outputs": [],
   "source": [
    "# Current GMV\n",
    "df5['current_purchase']=np.ceil(df5['user_id']*0.13).astype(int)\n",
    "df5['current_GMV']=df5['current_purchase']*4500\n",
    "current_gmv=df5['current_GMV'].sum()\n"
   ]
  },
  {
   "cell_type": "code",
   "execution_count": 64,
   "id": "253a9b48",
   "metadata": {
    "ExecuteTime": {
     "end_time": "2022-07-06T10:47:40.204154Z",
     "start_time": "2022-07-06T10:47:40.190156Z"
    }
   },
   "outputs": [],
   "source": [
    "# New GMV\n",
    "df5['new_purchase']=np.ceil(df5['user_id']*0.15).astype(int)\n",
    "df5['new_GMV']=df5['new_purchase']*4500\n",
    "new_GMV=df5['new_GMV'].sum()\n"
   ]
  },
  {
   "cell_type": "code",
   "execution_count": 65,
   "id": "bb11a03a",
   "metadata": {
    "ExecuteTime": {
     "end_time": "2022-07-06T10:47:40.219474Z",
     "start_time": "2022-07-06T10:47:40.205151Z"
    },
    "scrolled": true
   },
   "outputs": [],
   "source": [
    "lift_abs=new_GMV-current_gmv\n",
    "lift=100*(new_GMV-current_gmv)/current_gmv"
   ]
  },
  {
   "cell_type": "code",
   "execution_count": 66,
   "id": "24b564a0",
   "metadata": {
    "ExecuteTime": {
     "end_time": "2022-07-06T10:47:40.234572Z",
     "start_time": "2022-07-06T10:47:40.220509Z"
    }
   },
   "outputs": [
    {
     "name": "stdout",
     "output_type": "stream",
     "text": [
      "GMV on period:167760000\n",
      "New GMV on period:193563000\n",
      "Abs Lift: 25803000\n",
      "Expected Lift:15.38%\n"
     ]
    }
   ],
   "source": [
    "print('GMV on period:{}'.format(current_gmv))\n",
    "print('New GMV on period:{}'.format(new_GMV))\n",
    "print('Abs Lift: {}'.format(lift_abs))\n",
    "print('Expected Lift:{:.2f}%'.format(lift))\n"
   ]
  },
  {
   "cell_type": "code",
   "execution_count": null,
   "id": "233854df",
   "metadata": {},
   "outputs": [],
   "source": []
  }
 ],
 "metadata": {
  "hide_input": false,
  "kernelspec": {
   "display_name": "Python 3 (ipykernel)",
   "language": "python",
   "name": "python3"
  },
  "language_info": {
   "codemirror_mode": {
    "name": "ipython",
    "version": 3
   },
   "file_extension": ".py",
   "mimetype": "text/x-python",
   "name": "python",
   "nbconvert_exporter": "python",
   "pygments_lexer": "ipython3",
   "version": "3.8.13"
  },
  "toc": {
   "base_numbering": 1,
   "nav_menu": {},
   "number_sections": true,
   "sideBar": true,
   "skip_h1_title": false,
   "title_cell": "Table of Contents",
   "title_sidebar": "Contents",
   "toc_cell": false,
   "toc_position": {
    "height": "calc(100% - 180px)",
    "left": "10px",
    "top": "150px",
    "width": "201.825px"
   },
   "toc_section_display": true,
   "toc_window_display": true
  }
 },
 "nbformat": 4,
 "nbformat_minor": 5
}
